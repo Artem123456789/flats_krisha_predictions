{
 "cells": [
  {
   "cell_type": "code",
   "execution_count": 1,
   "id": "8d919d21-c21b-4a64-8a09-fc41eab7e143",
   "metadata": {},
   "outputs": [],
   "source": [
    "import numpy as np\n",
    "import pandas as pd\n",
    "import matplotlib.pyplot as plt\n",
    "import seaborn as sns"
   ]
  },
  {
   "cell_type": "code",
   "execution_count": 2,
   "id": "58314183-41a8-40c6-a4c8-90ebddb65065",
   "metadata": {},
   "outputs": [],
   "source": [
    "df = pd.read_csv(\"flats.csv\")"
   ]
  },
  {
   "cell_type": "code",
   "execution_count": 3,
   "id": "20ee6c05-4bae-489c-9689-c81e90ef6861",
   "metadata": {},
   "outputs": [
    {
     "data": {
      "text/plain": [
       "(5589, 3)"
      ]
     },
     "execution_count": 3,
     "metadata": {},
     "output_type": "execute_result"
    }
   ],
   "source": [
    "df.shape"
   ]
  },
  {
   "cell_type": "code",
   "execution_count": 4,
   "id": "d13d9612-584b-4630-8a0c-5537b23b82f9",
   "metadata": {},
   "outputs": [
    {
     "data": {
      "text/html": [
       "<div>\n",
       "<style scoped>\n",
       "    .dataframe tbody tr th:only-of-type {\n",
       "        vertical-align: middle;\n",
       "    }\n",
       "\n",
       "    .dataframe tbody tr th {\n",
       "        vertical-align: top;\n",
       "    }\n",
       "\n",
       "    .dataframe thead th {\n",
       "        text-align: right;\n",
       "    }\n",
       "</style>\n",
       "<table border=\"1\" class=\"dataframe\">\n",
       "  <thead>\n",
       "    <tr style=\"text-align: right;\">\n",
       "      <th></th>\n",
       "      <th>header</th>\n",
       "      <th>price</th>\n",
       "      <th>subtitle</th>\n",
       "    </tr>\n",
       "  </thead>\n",
       "  <tbody>\n",
       "    <tr>\n",
       "      <th>0</th>\n",
       "      <td>3-комнатная квартира, 62.7 м², 2/9 этаж</td>\n",
       "      <td>31000000</td>\n",
       "      <td>Казыбек би р-н, мкр Юго-Восток, Степной 3 3/8</td>\n",
       "    </tr>\n",
       "    <tr>\n",
       "      <th>1</th>\n",
       "      <td>2-комнатная квартира, 54 м², 14/16 этаж</td>\n",
       "      <td>18500000</td>\n",
       "      <td>Казыбек би р-н, мкр Юго-Восток, Республики 18/2</td>\n",
       "    </tr>\n",
       "    <tr>\n",
       "      <th>2</th>\n",
       "      <td>3-комнатная квартира, 49 м², 5/5 этаж</td>\n",
       "      <td>18500000</td>\n",
       "      <td>Казыбек би р-н, мкр Юго-Восток, Муканова — Стр...</td>\n",
       "    </tr>\n",
       "    <tr>\n",
       "      <th>3</th>\n",
       "      <td>2-комнатная квартира, 44 м², 2/9 этаж</td>\n",
       "      <td>18000000</td>\n",
       "      <td>Казыбек би р-н, мкр Юго-Восток, Мкр муканова 17</td>\n",
       "    </tr>\n",
       "    <tr>\n",
       "      <th>4</th>\n",
       "      <td>4-комнатная квартира, 80 м², 2/5 этаж</td>\n",
       "      <td>40000000</td>\n",
       "      <td>Казыбек би р-н, мкр Михайловка , Касыма Аманжо...</td>\n",
       "    </tr>\n",
       "  </tbody>\n",
       "</table>\n",
       "</div>"
      ],
      "text/plain": [
       "                                    header     price  \\\n",
       "0  3-комнатная квартира, 62.7 м², 2/9 этаж  31000000   \n",
       "1  2-комнатная квартира, 54 м², 14/16 этаж  18500000   \n",
       "2    3-комнатная квартира, 49 м², 5/5 этаж  18500000   \n",
       "3    2-комнатная квартира, 44 м², 2/9 этаж  18000000   \n",
       "4    4-комнатная квартира, 80 м², 2/5 этаж  40000000   \n",
       "\n",
       "                                            subtitle  \n",
       "0      Казыбек би р-н, мкр Юго-Восток, Степной 3 3/8  \n",
       "1    Казыбек би р-н, мкр Юго-Восток, Республики 18/2  \n",
       "2  Казыбек би р-н, мкр Юго-Восток, Муканова — Стр...  \n",
       "3    Казыбек би р-н, мкр Юго-Восток, Мкр муканова 17  \n",
       "4  Казыбек би р-н, мкр Михайловка , Касыма Аманжо...  "
      ]
     },
     "execution_count": 4,
     "metadata": {},
     "output_type": "execute_result"
    }
   ],
   "source": [
    "df.head()"
   ]
  },
  {
   "cell_type": "code",
   "execution_count": 5,
   "id": "a0923627-fe28-49aa-965b-01071847d9ab",
   "metadata": {},
   "outputs": [],
   "source": [
    "rooms_count = pd.Series(name=\"rooms_count\", dtype=int, data=np.zeros(len(df)))\n",
    "area = pd.Series(name=\"area\", dtype=float, data=np.zeros(len(df)))\n",
    "floor = pd.Series(name=\"floor\", dtype=int, data=np.zeros(len(df)))\n",
    "max_floor = pd.Series(name=\"max_floors\", dtype=int, data=np.zeros(len(df)))\n",
    "\n",
    "splited_headers = []"
   ]
  },
  {
   "cell_type": "code",
   "execution_count": 6,
   "id": "29e9b826-8e52-4b06-972a-4ffd4649cfec",
   "metadata": {},
   "outputs": [],
   "source": [
    "def fill_splited_headers():\n",
    "    for header in df[\"header\"]:\n",
    "        splited_headers.append(header.split(\",\"))"
   ]
  },
  {
   "cell_type": "code",
   "execution_count": 7,
   "id": "68e6f40e-f83b-4d82-b211-de96e457e7b4",
   "metadata": {},
   "outputs": [],
   "source": [
    "fill_splited_headers()"
   ]
  },
  {
   "cell_type": "code",
   "execution_count": 8,
   "id": "aafe2cd9-07d5-4701-8f98-a51dad615f82",
   "metadata": {},
   "outputs": [],
   "source": [
    "def fill_rooms_count():\n",
    "    for i in range(len(splited_headers)):\n",
    "        rooms_count.update({i: int(splited_headers[i][0][0])})"
   ]
  },
  {
   "cell_type": "code",
   "execution_count": 9,
   "id": "1d7b9451-3547-4a30-8d86-54357ecf1637",
   "metadata": {},
   "outputs": [],
   "source": [
    "def fill_area():\n",
    "    for i in range(len(splited_headers)):\n",
    "        num = splited_headers[i][1].replace(\"м²\", \"\")\n",
    "        area.update({i : float(num)})"
   ]
  },
  {
   "cell_type": "code",
   "execution_count": 10,
   "id": "7430328a-17f7-41e4-9a6b-5c0932852813",
   "metadata": {},
   "outputs": [],
   "source": [
    "def fill_floors():\n",
    "    for i in range(len(splited_headers)):\n",
    "        if(len(splited_headers[i]) == 3):\n",
    "            cur_floors = splited_headers[i][2].replace(\" этаж\", \"\").split(\"/\")\n",
    "            if len(cur_floors) == 2:\n",
    "                floor.update({i : int(cur_floors[0])})\n",
    "                max_floor.update({i: int(cur_floors[1])})\n",
    "            else:\n",
    "                floor.update({i : int(cur_floors[0])})"
   ]
  },
  {
   "cell_type": "code",
   "execution_count": 11,
   "id": "2c451306-4fa5-4a22-9852-24a18df46e2a",
   "metadata": {},
   "outputs": [],
   "source": [
    "fill_rooms_count()\n",
    "fill_area()\n",
    "fill_floors()"
   ]
  },
  {
   "cell_type": "code",
   "execution_count": 12,
   "id": "59cf261a-1f81-49ec-807b-191dc85f39c7",
   "metadata": {},
   "outputs": [],
   "source": [
    "import re"
   ]
  },
  {
   "cell_type": "code",
   "execution_count": 13,
   "id": "e8f2c712-945d-4547-bd7e-9366bd890d40",
   "metadata": {},
   "outputs": [],
   "source": [
    "district = pd.Series(name=\"district\", dtype=str, data=np.zeros(len(df)))\n",
    "micro_district = pd.Series(name=\"micro_district\", dtype=str, data=np.zeros(len(df)))\n",
    "street = pd.Series(name=\"street\", dtype=str, data=np.zeros(len(df)))\n",
    "splited_subtitles = []"
   ]
  },
  {
   "cell_type": "code",
   "execution_count": 14,
   "id": "6a6b184c-9eac-42c3-827d-ca8020dc058d",
   "metadata": {},
   "outputs": [],
   "source": [
    "def fill_splited_subtitles():\n",
    "    for subtitle in df[\"subtitle\"]:\n",
    "        splited_subtitles.append(subtitle.split(\",\"))"
   ]
  },
  {
   "cell_type": "code",
   "execution_count": 15,
   "id": "f843b580-31ea-4626-9445-56319c58376b",
   "metadata": {},
   "outputs": [],
   "source": [
    "fill_splited_subtitles()"
   ]
  },
  {
   "cell_type": "code",
   "execution_count": 16,
   "id": "f33d8744-6519-414b-8acc-b4fb80789aea",
   "metadata": {},
   "outputs": [],
   "source": [
    "def fill_districts():\n",
    "    for i in range(len(splited_subtitles)):\n",
    "        if len(splited_subtitles[i]) > 1:\n",
    "            district.update({i: splited_subtitles[i][0].lower()})\n",
    "        else:\n",
    "            street.update({i : re.sub(\"\\/\", \"\", re.sub(\"\\d\", \"\", splited_subtitles[i][0].lower()))})"
   ]
  },
  {
   "cell_type": "code",
   "execution_count": 17,
   "id": "f8f77a25-c2f9-42d3-a573-984562f92197",
   "metadata": {},
   "outputs": [],
   "source": [
    "def fill_micro_districts():\n",
    "    for i in range(len(splited_subtitles)):\n",
    "        if len(splited_subtitles[i]) > 1: \n",
    "            micro_district.update({i: splited_subtitles[i][1].lower()})"
   ]
  },
  {
   "cell_type": "code",
   "execution_count": 18,
   "id": "76912c69-b9d6-4dc5-9850-ea8454165c8d",
   "metadata": {},
   "outputs": [],
   "source": [
    "def fill_streets():\n",
    "    for i in range(len(splited_subtitles)):\n",
    "        if len(splited_subtitles[i]) > 2:\n",
    "            street.update({i: re.sub(\"\\/\", \"\", re.sub(\"\\d\", \"\", splited_subtitles[i][2].lower()))})"
   ]
  },
  {
   "cell_type": "code",
   "execution_count": 19,
   "id": "6c60fe3c-37c9-42e4-a89e-179af2ded0dc",
   "metadata": {},
   "outputs": [],
   "source": [
    "fill_districts()\n",
    "fill_micro_districts()\n",
    "fill_streets()"
   ]
  },
  {
   "cell_type": "code",
   "execution_count": 26,
   "id": "9b301ff5-6c8a-48c8-bd58-2e21d0409208",
   "metadata": {},
   "outputs": [],
   "source": [
    "result_df = pd.DataFrame()\n",
    "result_df[\"rooms_count\"] = rooms_count\n",
    "result_df[\"area\"] = area\n",
    "result_df[\"floor\"] = floor\n",
    "result_df[\"max_floor\"] = max_floor\n",
    "result_df[\"district\"] = district\n",
    "result_df[\"micro_district\"] = micro_district\n",
    "result_df[\"street\"] = street"
   ]
  },
  {
   "cell_type": "code",
   "execution_count": 27,
   "id": "95dac06b-31bd-4391-949c-95072c5cf3e8",
   "metadata": {},
   "outputs": [
    {
     "data": {
      "text/html": [
       "<div>\n",
       "<style scoped>\n",
       "    .dataframe tbody tr th:only-of-type {\n",
       "        vertical-align: middle;\n",
       "    }\n",
       "\n",
       "    .dataframe tbody tr th {\n",
       "        vertical-align: top;\n",
       "    }\n",
       "\n",
       "    .dataframe thead th {\n",
       "        text-align: right;\n",
       "    }\n",
       "</style>\n",
       "<table border=\"1\" class=\"dataframe\">\n",
       "  <thead>\n",
       "    <tr style=\"text-align: right;\">\n",
       "      <th></th>\n",
       "      <th>rooms_count</th>\n",
       "      <th>area</th>\n",
       "      <th>floor</th>\n",
       "      <th>max_floor</th>\n",
       "      <th>district</th>\n",
       "      <th>micro_district</th>\n",
       "      <th>street</th>\n",
       "    </tr>\n",
       "  </thead>\n",
       "  <tbody>\n",
       "    <tr>\n",
       "      <th>0</th>\n",
       "      <td>3</td>\n",
       "      <td>62.7</td>\n",
       "      <td>2</td>\n",
       "      <td>9</td>\n",
       "      <td>казыбек би р-н</td>\n",
       "      <td>мкр юго-восток</td>\n",
       "      <td>степной</td>\n",
       "    </tr>\n",
       "    <tr>\n",
       "      <th>1</th>\n",
       "      <td>2</td>\n",
       "      <td>54.0</td>\n",
       "      <td>14</td>\n",
       "      <td>16</td>\n",
       "      <td>казыбек би р-н</td>\n",
       "      <td>мкр юго-восток</td>\n",
       "      <td>республики</td>\n",
       "    </tr>\n",
       "    <tr>\n",
       "      <th>2</th>\n",
       "      <td>3</td>\n",
       "      <td>49.0</td>\n",
       "      <td>5</td>\n",
       "      <td>5</td>\n",
       "      <td>казыбек би р-н</td>\n",
       "      <td>мкр юго-восток</td>\n",
       "      <td>муканова — строителей</td>\n",
       "    </tr>\n",
       "    <tr>\n",
       "      <th>3</th>\n",
       "      <td>2</td>\n",
       "      <td>44.0</td>\n",
       "      <td>2</td>\n",
       "      <td>9</td>\n",
       "      <td>казыбек би р-н</td>\n",
       "      <td>мкр юго-восток</td>\n",
       "      <td>мкр муканова</td>\n",
       "    </tr>\n",
       "    <tr>\n",
       "      <th>4</th>\n",
       "      <td>4</td>\n",
       "      <td>80.0</td>\n",
       "      <td>2</td>\n",
       "      <td>5</td>\n",
       "      <td>казыбек би р-н</td>\n",
       "      <td>мкр михайловка</td>\n",
       "      <td>касыма аманжолова</td>\n",
       "    </tr>\n",
       "  </tbody>\n",
       "</table>\n",
       "</div>"
      ],
      "text/plain": [
       "   rooms_count  area  floor  max_floor        district    micro_district  \\\n",
       "0            3  62.7      2          9  казыбек би р-н    мкр юго-восток   \n",
       "1            2  54.0     14         16  казыбек би р-н    мкр юго-восток   \n",
       "2            3  49.0      5          5  казыбек би р-н    мкр юго-восток   \n",
       "3            2  44.0      2          9  казыбек би р-н    мкр юго-восток   \n",
       "4            4  80.0      2          5  казыбек би р-н   мкр михайловка    \n",
       "\n",
       "                   street  \n",
       "0               степной    \n",
       "1             республики   \n",
       "2   муканова — строителей  \n",
       "3           мкр муканова   \n",
       "4      касыма аманжолова   "
      ]
     },
     "execution_count": 27,
     "metadata": {},
     "output_type": "execute_result"
    }
   ],
   "source": [
    "result_df.head()"
   ]
  },
  {
   "cell_type": "code",
   "execution_count": 32,
   "id": "65941ee8-3737-41fb-83ce-4999a1c68dc5",
   "metadata": {},
   "outputs": [],
   "source": [
    "def remove_string_from_price():\n",
    "    for i in range(100):\n",
    "        df[\"price\"].iloc[i] = re.sub(\"[^\\d]\", \"\", df[\"price\"].iloc[i])"
   ]
  },
  {
   "cell_type": "code",
   "execution_count": 33,
   "id": "d9355766-6c45-46a6-b880-f80bfc62da51",
   "metadata": {},
   "outputs": [],
   "source": [
    "remove_string_from_price()"
   ]
  },
  {
   "cell_type": "code",
   "execution_count": 34,
   "id": "cbc85307-f8ee-4a08-8f84-76734f7418aa",
   "metadata": {},
   "outputs": [
    {
     "ename": "ValueError",
     "evalue": "could not convert string to float: 'от 24395000'",
     "output_type": "error",
     "traceback": [
      "\u001b[1;31m---------------------------------------------------------------------------\u001b[0m",
      "\u001b[1;31mValueError\u001b[0m                                Traceback (most recent call last)",
      "\u001b[1;32m~\\AppData\\Local\\Temp/ipykernel_12700/1559705849.py\u001b[0m in \u001b[0;36m<module>\u001b[1;34m\u001b[0m\n\u001b[0;32m      1\u001b[0m \u001b[0mresult_df\u001b[0m\u001b[1;33m[\u001b[0m\u001b[1;34m\"price\"\u001b[0m\u001b[1;33m]\u001b[0m \u001b[1;33m=\u001b[0m \u001b[0mdf\u001b[0m\u001b[1;33m[\u001b[0m\u001b[1;34m\"price\"\u001b[0m\u001b[1;33m]\u001b[0m\u001b[1;33m\u001b[0m\u001b[1;33m\u001b[0m\u001b[0m\n\u001b[1;32m----> 2\u001b[1;33m \u001b[0mresult_df\u001b[0m\u001b[1;33m[\u001b[0m\u001b[1;34m\"price\"\u001b[0m\u001b[1;33m]\u001b[0m\u001b[1;33m.\u001b[0m\u001b[0mapply\u001b[0m\u001b[1;33m(\u001b[0m\u001b[0mfloat\u001b[0m\u001b[1;33m)\u001b[0m\u001b[1;33m\u001b[0m\u001b[1;33m\u001b[0m\u001b[0m\n\u001b[0m",
      "\u001b[1;32mc:\\users\\artem\\appdata\\local\\programs\\python\\python39\\lib\\site-packages\\pandas\\core\\series.py\u001b[0m in \u001b[0;36mapply\u001b[1;34m(self, func, convert_dtype, args, **kwargs)\u001b[0m\n\u001b[0;32m   4354\u001b[0m         \u001b[0mdtype\u001b[0m\u001b[1;33m:\u001b[0m \u001b[0mfloat64\u001b[0m\u001b[1;33m\u001b[0m\u001b[1;33m\u001b[0m\u001b[0m\n\u001b[0;32m   4355\u001b[0m         \"\"\"\n\u001b[1;32m-> 4356\u001b[1;33m         \u001b[1;32mreturn\u001b[0m \u001b[0mSeriesApply\u001b[0m\u001b[1;33m(\u001b[0m\u001b[0mself\u001b[0m\u001b[1;33m,\u001b[0m \u001b[0mfunc\u001b[0m\u001b[1;33m,\u001b[0m \u001b[0mconvert_dtype\u001b[0m\u001b[1;33m,\u001b[0m \u001b[0margs\u001b[0m\u001b[1;33m,\u001b[0m \u001b[0mkwargs\u001b[0m\u001b[1;33m)\u001b[0m\u001b[1;33m.\u001b[0m\u001b[0mapply\u001b[0m\u001b[1;33m(\u001b[0m\u001b[1;33m)\u001b[0m\u001b[1;33m\u001b[0m\u001b[1;33m\u001b[0m\u001b[0m\n\u001b[0m\u001b[0;32m   4357\u001b[0m \u001b[1;33m\u001b[0m\u001b[0m\n\u001b[0;32m   4358\u001b[0m     def _reduce(\n",
      "\u001b[1;32mc:\\users\\artem\\appdata\\local\\programs\\python\\python39\\lib\\site-packages\\pandas\\core\\apply.py\u001b[0m in \u001b[0;36mapply\u001b[1;34m(self)\u001b[0m\n\u001b[0;32m   1034\u001b[0m             \u001b[1;32mreturn\u001b[0m \u001b[0mself\u001b[0m\u001b[1;33m.\u001b[0m\u001b[0mapply_str\u001b[0m\u001b[1;33m(\u001b[0m\u001b[1;33m)\u001b[0m\u001b[1;33m\u001b[0m\u001b[1;33m\u001b[0m\u001b[0m\n\u001b[0;32m   1035\u001b[0m \u001b[1;33m\u001b[0m\u001b[0m\n\u001b[1;32m-> 1036\u001b[1;33m         \u001b[1;32mreturn\u001b[0m \u001b[0mself\u001b[0m\u001b[1;33m.\u001b[0m\u001b[0mapply_standard\u001b[0m\u001b[1;33m(\u001b[0m\u001b[1;33m)\u001b[0m\u001b[1;33m\u001b[0m\u001b[1;33m\u001b[0m\u001b[0m\n\u001b[0m\u001b[0;32m   1037\u001b[0m \u001b[1;33m\u001b[0m\u001b[0m\n\u001b[0;32m   1038\u001b[0m     \u001b[1;32mdef\u001b[0m \u001b[0magg\u001b[0m\u001b[1;33m(\u001b[0m\u001b[0mself\u001b[0m\u001b[1;33m)\u001b[0m\u001b[1;33m:\u001b[0m\u001b[1;33m\u001b[0m\u001b[1;33m\u001b[0m\u001b[0m\n",
      "\u001b[1;32mc:\\users\\artem\\appdata\\local\\programs\\python\\python39\\lib\\site-packages\\pandas\\core\\apply.py\u001b[0m in \u001b[0;36mapply_standard\u001b[1;34m(self)\u001b[0m\n\u001b[0;32m   1090\u001b[0m                 \u001b[1;31m# List[Union[Callable[..., Any], str]]]]]\"; expected\u001b[0m\u001b[1;33m\u001b[0m\u001b[1;33m\u001b[0m\u001b[1;33m\u001b[0m\u001b[0m\n\u001b[0;32m   1091\u001b[0m                 \u001b[1;31m# \"Callable[[Any], Any]\"\u001b[0m\u001b[1;33m\u001b[0m\u001b[1;33m\u001b[0m\u001b[1;33m\u001b[0m\u001b[0m\n\u001b[1;32m-> 1092\u001b[1;33m                 mapped = lib.map_infer(\n\u001b[0m\u001b[0;32m   1093\u001b[0m                     \u001b[0mvalues\u001b[0m\u001b[1;33m,\u001b[0m\u001b[1;33m\u001b[0m\u001b[1;33m\u001b[0m\u001b[0m\n\u001b[0;32m   1094\u001b[0m                     \u001b[0mf\u001b[0m\u001b[1;33m,\u001b[0m  \u001b[1;31m# type: ignore[arg-type]\u001b[0m\u001b[1;33m\u001b[0m\u001b[1;33m\u001b[0m\u001b[0m\n",
      "\u001b[1;32mc:\\users\\artem\\appdata\\local\\programs\\python\\python39\\lib\\site-packages\\pandas\\_libs\\lib.pyx\u001b[0m in \u001b[0;36mpandas._libs.lib.map_infer\u001b[1;34m()\u001b[0m\n",
      "\u001b[1;31mValueError\u001b[0m: could not convert string to float: 'от 24395000'"
     ]
    }
   ],
   "source": [
    "result_df[\"price\"] = df[\"price\"]\n",
    "result_df[\"price\"].apply(float)"
   ]
  },
  {
   "cell_type": "code",
   "execution_count": null,
   "id": "7187bd7e-fc4e-4b55-9cc4-8788e67cb4f3",
   "metadata": {},
   "outputs": [],
   "source": []
  }
 ],
 "metadata": {
  "kernelspec": {
   "display_name": "Python 3 (ipykernel)",
   "language": "python",
   "name": "python3"
  },
  "language_info": {
   "codemirror_mode": {
    "name": "ipython",
    "version": 3
   },
   "file_extension": ".py",
   "mimetype": "text/x-python",
   "name": "python",
   "nbconvert_exporter": "python",
   "pygments_lexer": "ipython3",
   "version": "3.9.4"
  }
 },
 "nbformat": 4,
 "nbformat_minor": 5
}
